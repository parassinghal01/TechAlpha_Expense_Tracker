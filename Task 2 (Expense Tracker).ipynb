{
 "cells": [
  {
   "cell_type": "code",
   "execution_count": null,
   "id": "0c2b4f91-a80e-413c-95e5-78a087e25852",
   "metadata": {},
   "outputs": [
    {
     "name": "stdout",
     "output_type": "stream",
     "text": [
      "\n",
      "Expense Tracker Menu:\n",
      "1. Add Expense\n",
      "2. Display Summary\n",
      "3. Exit\n"
     ]
    },
    {
     "name": "stdin",
     "output_type": "stream",
     "text": [
      "Enter your choice:  1\n",
      "Enter expense category:  miscleneos\n",
      "Enter expense amount:  500\n"
     ]
    },
    {
     "name": "stdout",
     "output_type": "stream",
     "text": [
      "Expense added successfully!\n",
      "\n",
      "Expense Tracker Menu:\n",
      "1. Add Expense\n",
      "2. Display Summary\n",
      "3. Exit\n"
     ]
    },
    {
     "name": "stdin",
     "output_type": "stream",
     "text": [
      "Enter your choice:  2\n"
     ]
    },
    {
     "name": "stdout",
     "output_type": "stream",
     "text": [
      "Expense Summary:\n",
      "Total Expense: 500.0\n",
      "Category-wise Summary:\n",
      "miscleneos: 500.0\n",
      "\n",
      "Expense Tracker Menu:\n",
      "1. Add Expense\n",
      "2. Display Summary\n",
      "3. Exit\n"
     ]
    }
   ],
   "source": [
    "class ExpenseTracker:\n",
    "    def __init__(self):\n",
    "        self.expenses = {}\n",
    "\n",
    "    def add_expense(self, category, amount):\n",
    "        if category not in self.expenses:\n",
    "            self.expenses[category] = []\n",
    "        self.expenses[category].append(amount)\n",
    "\n",
    "    def get_total_expense(self):\n",
    "        total_expense = 0\n",
    "        for category in self.expenses:\n",
    "            total_expense += sum(self.expenses[category])\n",
    "        return total_expense\n",
    "\n",
    "    def get_category_summary(self):\n",
    "        category_summary = {}\n",
    "        for category in self.expenses:\n",
    "            category_summary[category] = sum(self.expenses[category])\n",
    "        return category_summary\n",
    "\n",
    "    def display_summary(self):\n",
    "        print(\"Expense Summary:\")\n",
    "        print(\"Total Expense:\", self.get_total_expense())\n",
    "        print(\"Category-wise Summary:\")\n",
    "        for category, amount in self.get_category_summary().items():\n",
    "            print(f\"{category}: {amount}\")\n",
    "\n",
    "def main():\n",
    "    tracker = ExpenseTracker()\n",
    "\n",
    "    while True:\n",
    "        print(\"\\nExpense Tracker Menu:\")\n",
    "        print(\"1. Add Expense\")\n",
    "        print(\"2. Display Summary\")\n",
    "        print(\"3. Exit\")\n",
    "\n",
    "        choice = input(\"Enter your choice: \")\n",
    "\n",
    "        if choice == '1':\n",
    "            category = input(\"Enter expense category: \")\n",
    "            amount = float(input(\"Enter expense amount: \"))\n",
    "            tracker.add_expense(category, amount)\n",
    "            print(\"Expense added successfully!\")\n",
    "        elif choice == '2':\n",
    "            tracker.display_summary()\n",
    "        elif choice == '3':\n",
    "            print(\"Exiting...\")\n",
    "            break\n",
    "        else:\n",
    "            print(\"Invalid choice, please try again.\")\n",
    "\n",
    "if __name__ == \"__main__\":\n",
    "    main()\n"
   ]
  },
  {
   "cell_type": "code",
   "execution_count": null,
   "id": "0b60dde5-5b1c-4c6a-a238-d5aa72be3db3",
   "metadata": {},
   "outputs": [],
   "source": []
  }
 ],
 "metadata": {
  "kernelspec": {
   "display_name": "Python 3 (ipykernel)",
   "language": "python",
   "name": "python3"
  },
  "language_info": {
   "codemirror_mode": {
    "name": "ipython",
    "version": 3
   },
   "file_extension": ".py",
   "mimetype": "text/x-python",
   "name": "python",
   "nbconvert_exporter": "python",
   "pygments_lexer": "ipython3",
   "version": "3.11.5"
  }
 },
 "nbformat": 4,
 "nbformat_minor": 5
}
